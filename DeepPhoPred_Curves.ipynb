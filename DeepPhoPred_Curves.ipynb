{
  "cells": [
    {
      "cell_type": "markdown",
      "metadata": {
        "id": "view-in-github",
        "colab_type": "text"
      },
      "source": [
        "<a href=\"https://colab.research.google.com/github/faisalahm3d/Brain-Tumor-Classification-Using-Transfer-Learning/blob/main/DeepPhoPred_Curves.ipynb\" target=\"_parent\"><img src=\"https://colab.research.google.com/assets/colab-badge.svg\" alt=\"Open In Colab\"/></a>"
      ]
    },
    {
      "cell_type": "code",
      "execution_count": null,
      "metadata": {
        "colab": {
          "base_uri": "https://localhost:8080/"
        },
        "id": "OdEGrsWaEK_o",
        "outputId": "f704c0ba-8c5f-447c-e818-b0492517ea78"
      },
      "outputs": [
        {
          "output_type": "stream",
          "name": "stdout",
          "text": [
            "Mounted at /content/drive\n"
          ]
        }
      ],
      "source": [
        "from google.colab import drive\n",
        "drive.mount('/content/drive')"
      ]
    },
    {
      "cell_type": "code",
      "execution_count": null,
      "metadata": {
        "id": "HN-TF_GcE7Y1"
      },
      "outputs": [],
      "source": [
        "from sklearn.model_selection import train_test_split\n",
        "from sklearn.model_selection import StratifiedKFold\n",
        "from sklearn.metrics import accuracy_score,recall_score, matthews_corrcoef, precision_score, roc_auc_score, f1_score\n",
        "from tensorflow.keras import backend as K\n",
        "import tensorflow as tf\n",
        "from sklearn.metrics import f1_score, auc\n",
        "import numpy as np\n",
        "from sklearn.metrics import confusion_matrix \n",
        "from sklearn.metrics import precision_recall_curve\n",
        "from sklearn.metrics import auc, roc_curve\n",
        "from matplotlib import pyplot \n",
        "\n",
        "def specificity_score(y_true, y_pred):\n",
        "    tn, fp, fn, tp = confusion_matrix(y_true, y_pred).ravel()\n",
        "    specificity = tn / (tn + fp)\n",
        "    return specificity"
      ]
    },
    {
      "cell_type": "code",
      "execution_count": null,
      "metadata": {
        "id": "8gMhfe0FFGat"
      },
      "outputs": [],
      "source": [
        "from keras.layers import Input, Conv1D, Dense, Activation, Dropout, MaxPooling1D, Flatten,concatenate,GlobalMaxPool1D\n",
        "from keras import Model\n",
        "from tensorflow.keras.optimizers import (RMSprop, Adam, SGD)\n",
        "from keras.models import load_model\n",
        "from tensorflow.keras.utils import plot_model\n",
        "from keras import regularizers\n",
        "from keras.regularizers import (l1, l2, l1_l2)\n",
        "from keras.callbacks import (EarlyStopping, ModelCheckpoint)\n",
        "from tensorflow.keras.optimizers import (RMSprop, Adam, SGD)\n",
        "from keras.layers import (Input, Dense, Dropout, Flatten, BatchNormalization,\n",
        "                                     Conv1D, Conv2D, MaxPooling1D, MaxPooling2D,GlobalAveragePooling1D,\n",
        "                                     LSTM, GRU, Embedding, Bidirectional, Concatenate, Multiply)"
      ]
    },
    {
      "cell_type": "code",
      "execution_count": null,
      "metadata": {
        "id": "J9bCPEpgFMLt"
      },
      "outputs": [],
      "source": [
        "def performance_result(y_test,y_test_predict,y_test_prob):\n",
        "  precision, recall, thresholds = precision_recall_curve(y_test, y_test_prob)\n",
        "  res = \"              Experimental result with combined features\\n\"\n",
        "  res += \"-----------------------------------------------------------------\\n\"\n",
        "  res += \"             independent test\\n\"\n",
        "  res += \"-----------------------------------------------------------------\\n\"\n",
        "  res += \"Accuracy:    {0:0.1f}\\n\".format(accuracy_score(y_test, y_test_predict)*100)\n",
        "  res += \"MCC:         {0:0.2f}\\n\".format(matthews_corrcoef(y_test, y_test_predict))\n",
        "  res += \"Precision:   {0:0.2f}\\n\".format(precision_score(y_test, y_test_predict))\n",
        "  res += \"Roc AUC :    {0:0.2f}\\n\".format(roc_auc_score(y_test, y_test_predict))\n",
        "  res += \"F1 score:    {0:0.2f}\\n\".format(f1_score(y_test, y_test_predict))\n",
        "  res += \"Sensitivity: {0:0.1f}\\n\".format(recall_score(y_test, y_test_predict)*100)\n",
        "  res += \"Specificity: {0:0.1f}\\n\".format(specificity_score(y_test, y_test_predict)*100)\n",
        "  res += \"PR AUC: {0:0.2f}\\n\".format(auc(recall, precision))\n",
        "\n",
        "  # draw_roc_curve(y_test,y_test_predict_prob)\n",
        "  print(res)\n",
        "  tn, fp, fn, tp = confusion_matrix(y_test, y_test_predict).ravel()\n",
        "  print(\"Tn: {} Fp : {} Fn : {} Tp : {}\\n\\n\".format(tn, fp, fn , tp))"
      ]
    },
    {
      "cell_type": "code",
      "execution_count": null,
      "metadata": {
        "id": "lxUjKi0Hfplk"
      },
      "outputs": [],
      "source": [
        "def generate_new_test_undersample(x_val,y_val,x_test,y_test):\n",
        "  # prepare independent test data for downsampling\n",
        "  new_test_x = []\n",
        "  new_test_y = []\n",
        "  pos_count = 340\n",
        "  neg_count = 4206\n",
        "  ratio = int(neg_count/pos_count)\n",
        "  new_val_x = np.array(x_val.tolist() * ratio)\n",
        "  new_val_y = np.array(y_val.tolist() * ratio)\n",
        "  count = 0\n",
        "  for i in range(len(new_val_y)):\n",
        "    if new_val_y[i] == 1:\n",
        "      new_test_x.append(new_val_x[i])\n",
        "      new_test_y.append(1)\n",
        "      count += 1\n",
        "      if count == pos_count - 120:\n",
        "        break\n",
        "  count = 0\n",
        "  for i in range(len(new_val_y)):\n",
        "    if new_val_y[i] == 0:\n",
        "      new_test_x.append(new_val_x[i])\n",
        "      new_test_y.append(0)\n",
        "      count += 1\n",
        "      if count == neg_count - 150:\n",
        "        print('available validation data')\n",
        "        break\n",
        "\n",
        "  count = 0\n",
        "  for i in range(len(y_test)):\n",
        "    if y_test[i] == 1:\n",
        "      new_test_x.append(x_test[i])\n",
        "      new_test_y.append(1)\n",
        "      count += 1\n",
        "      if count == 120:\n",
        "        break\n",
        "  count = 0\n",
        "  for i in range(len(y_test)):\n",
        "    if y_test[i] == 0:\n",
        "      new_test_x.append(x_test[i])\n",
        "      new_test_y.append(0)\n",
        "      count += 1\n",
        "      if count == 150:\n",
        "        print('available test data')\n",
        "        break\n",
        "  new_test_x = np.stack(new_test_x)\n",
        "  new_test_y = np.stack(new_test_y)\n",
        "  return new_test_x, new_test_y"
      ]
    },
    {
      "cell_type": "code",
      "execution_count": null,
      "metadata": {
        "id": "BDvDf8EORjo5"
      },
      "outputs": [],
      "source": [
        "def generate_new_test_oversampling(x_val, y_val,x_test, ytest):\n",
        "  # for oversampling\n",
        "  new_test_x = []\n",
        "  new_test_y = []\n",
        "  pos_count = 284\n",
        "  neg_count = 1635\n",
        "  count = 0\n",
        "  for i in range(len(y_val)):\n",
        "    if y_val[i] == 1:\n",
        "      new_test_x.append(x_val[i])\n",
        "      new_test_y.append(1)\n",
        "      count += 1\n",
        "      if count == pos_count - 100:\n",
        "        break\n",
        "  count = 0\n",
        "  for i in range(len(y_val)):\n",
        "    if y_val[i] == 0:\n",
        "      new_test_x.append(x_val[i])\n",
        "      new_test_y.append(0)\n",
        "      count += 1\n",
        "      if count == neg_count - 1000:\n",
        "        print('Enough Validation Data')\n",
        "        break\n",
        "\n",
        "  count = 0\n",
        "  for i in range(len(y_test)):\n",
        "    if y_test[i] == 1:\n",
        "      new_test_x.append(x_test[i])\n",
        "      new_test_y.append(1)\n",
        "      count += 1\n",
        "      if count == 100:\n",
        "        break\n",
        "  count = 0\n",
        "  for i in range(len(y_test)):\n",
        "    if y_test[i] == 0:\n",
        "      new_test_x.append(x_test[i])\n",
        "      new_test_y.append(0)\n",
        "      count += 1\n",
        "      if count == 1000:\n",
        "        print('Enough test Data')\n",
        "        break\n",
        "  new_test_x = np.stack(new_test_x)\n",
        "  new_test_y = np.stack(new_test_y)\n",
        "  return new_test_x, new_test_y"
      ]
    },
    {
      "cell_type": "code",
      "execution_count": null,
      "metadata": {
        "id": "vlLqB7P6Fdad"
      },
      "outputs": [],
      "source": [
        "def get_pssm_spd(data):\n",
        "  row, col = data.shape\n",
        "  print (row)\n",
        "  pssm= data[:, :620]\n",
        "  spd = data[:, 620:]\n",
        "  return np.array([pssm[r,:].reshape(31,20) for r in range(row)]), np.array([spd[r, :].reshape(31,8) for r in range(row)])"
      ]
    },
    {
      "cell_type": "code",
      "execution_count": null,
      "metadata": {
        "id": "uDtPvjgsb7qW"
      },
      "outputs": [],
      "source": [
        "def plot_roc_curves(fpr, tpr, roc_auc, label,protein_site,colors):\n",
        "    plt.figure()\n",
        "    lw = 1.0\n",
        "    #colors = ['green', 'darkorange', 'red']\n",
        "    for i in range(len(label)):\n",
        "        plt.plot(fpr[i], tpr[i], color=colors[i], lw=lw, label='p{0} {1} (AUC = {2:0.2f})'.format(protein_site,label[i], roc_auc[i]))\n",
        "\n",
        "    plt.plot([0, 1], [0, 1], 'k--', lw=lw)\n",
        "\n",
        "    plt.xlim([0.0, 1.05])\n",
        "    plt.ylim([0.0, 1.05])\n",
        "    plt.xlabel('False Positive Rate')\n",
        "    plt.ylabel('True Positive Rate')\n",
        "    #plt.title('Some extension of Receiver operating characteristic to multi-class')\n",
        "    plt.legend(loc=\"lower right\")\n",
        "    # plt.figure(figsize=(30,10))\n",
        "    plt.savefig('roc_curve_final'+protein_site+'.png', dpi=500)\n",
        "    plt.show()"
      ]
    },
    {
      "cell_type": "code",
      "execution_count": null,
      "metadata": {
        "id": "c6icXJjW0ITK"
      },
      "outputs": [],
      "source": [
        "def plot_pr_curves(fpr, tpr, pr_auc, label, protein_site, colors):\n",
        "    plt.figure()\n",
        "    lw = 1.0\n",
        "    #colors = ['green', 'darkorange', 'red']\n",
        "    for i in range(len(label)):\n",
        "        plt.plot(fpr[i], tpr[i], color=colors[i], lw=lw, label='p{0} {1} (AUC = {2:0.2f})'.format(protein_site,label[i], pr_auc[i]))\n",
        "\n",
        "    #plt.plot([0, 1], [1, 0], 'k--', lw=lw)\n",
        "\n",
        "    plt.xlim([0.0, 1.0])\n",
        "    plt.ylim([0.0, 1.0])\n",
        "    plt.xlabel('Recall')\n",
        "    plt.ylabel('Precision')\n",
        "    #plt.title('Some extension of Receiver operating characteristic to multi-class')\n",
        "    plt.legend(loc=\"lower left\")\n",
        "    # plt.figure(figsize=(30,10))\n",
        "    plt.savefig('pr_curve_p'+protein_site+'.png', dpi=500)\n",
        "    plt.show()"
      ]
    },
    {
      "cell_type": "code",
      "execution_count": null,
      "metadata": {
        "id": "nkRtRuwHFS72"
      },
      "outputs": [],
      "source": [
        "npzfile = np.load('/content/drive/MyDrive/Dataset/independent_test_set_T.npz', allow_pickle=True)\n",
        "new_test_x = npzfile['arr_0']\n",
        "new_test_y = npzfile['arr_1']"
      ]
    },
    {
      "cell_type": "code",
      "execution_count": null,
      "metadata": {
        "id": "2fIUhpA-gOjK"
      },
      "outputs": [],
      "source": [
        "import numpy as np\n",
        "#npzfile = np.load('/content/drive/MyDrive/Dataset/train_smote_balanced_15_Y.npz', allow_pickle=True)\n",
        "npzfile = np.load('/content/drive/MyDrive/Dataset/smote_trained_balanced_bigram_Y.npz', allow_pickle=True)\n",
        "x_train= npzfile['arr_0']\n",
        "y_train= npzfile['arr_1']\n",
        "x_test = npzfile['arr_2']\n",
        "y_test = npzfile['arr_3']\n",
        "from sklearn.model_selection import train_test_split\n",
        "x_train, x_val, y_train, y_val = train_test_split(x_train, y_train, test_size=0.20, random_state=10)"
      ]
    },
    {
      "cell_type": "code",
      "execution_count": null,
      "metadata": {
        "colab": {
          "base_uri": "https://localhost:8080/",
          "height": 187
        },
        "id": "gbtsDabggawy",
        "outputId": "2f4ae596-648d-427f-afc2-b150b974ed6d"
      },
      "outputs": [
        {
          "output_type": "error",
          "ename": "NameError",
          "evalue": "ignored",
          "traceback": [
            "\u001b[0;31m---------------------------------------------------------------------------\u001b[0m",
            "\u001b[0;31mNameError\u001b[0m                                 Traceback (most recent call last)",
            "\u001b[0;32m<ipython-input-25-4ee636544f43>\u001b[0m in \u001b[0;36m<module>\u001b[0;34m\u001b[0m\n\u001b[0;32m----> 1\u001b[0;31m \u001b[0mrow_test_x\u001b[0m\u001b[0;34m,\u001b[0m \u001b[0mrow_test_y\u001b[0m \u001b[0;34m=\u001b[0m \u001b[0mgenerate_new_test_oversampling\u001b[0m\u001b[0;34m(\u001b[0m\u001b[0mx_val\u001b[0m\u001b[0;34m,\u001b[0m\u001b[0my_val\u001b[0m\u001b[0;34m,\u001b[0m\u001b[0mx_test\u001b[0m\u001b[0;34m,\u001b[0m\u001b[0my_test\u001b[0m\u001b[0;34m)\u001b[0m\u001b[0;34m\u001b[0m\u001b[0;34m\u001b[0m\u001b[0m\n\u001b[0m",
            "\u001b[0;31mNameError\u001b[0m: name 'generate_new_test_oversampling' is not defined"
          ]
        }
      ],
      "source": [
        "row_test_x, row_test_y = generate_new_test_oversampling(x_val,y_val,x_test,y_test)"
      ]
    },
    {
      "cell_type": "code",
      "source": [
        "import numpy as np\n",
        "#npzfile = np.load('/content/drive/MyDrive/Dataset/train_smote_balanced_15_Y.npz', allow_pickle=True)\n",
        "npzfile = np.load('/content/drive/MyDrive/Dataset/nearmiss_bigram_trained_balanced_S.npz', allow_pickle=True)\n",
        "x_train= npzfile['arr_0']\n",
        "y_train= npzfile['arr_1']\n",
        "x_test = npzfile['arr_2']\n",
        "y_test = npzfile['arr_3']\n",
        "from sklearn.model_selection import train_test_split\n",
        "x_train, x_val, y_train, y_val = train_test_split(x_train, y_train, test_size=0.20, random_state=10)"
      ],
      "metadata": {
        "id": "rByID_v4IT-A"
      },
      "execution_count": null,
      "outputs": []
    },
    {
      "cell_type": "code",
      "source": [
        "nearmiss_test_x, nearmiss_test_y = generate_new_test_undersample(x_val,y_val,x_test,y_test)"
      ],
      "metadata": {
        "colab": {
          "base_uri": "https://localhost:8080/"
        },
        "id": "I9Pf0UwcCkqK",
        "outputId": "b9623f1e-3130-4d88-9487-b8f39c3f546f"
      },
      "execution_count": null,
      "outputs": [
        {
          "output_type": "stream",
          "name": "stdout",
          "text": [
            "available validation data\n",
            "available test data\n"
          ]
        }
      ]
    },
    {
      "cell_type": "code",
      "execution_count": null,
      "metadata": {
        "colab": {
          "base_uri": "https://localhost:8080/"
        },
        "id": "3IUGrse0EQw2",
        "outputId": "311d92d2-a0a4-439f-853b-6d201e9f4350"
      },
      "outputs": [
        {
          "output_type": "execute_result",
          "data": {
            "text/plain": [
              "488"
            ]
          },
          "metadata": {},
          "execution_count": 28
        }
      ],
      "source": [
        "len(nearmiss_test_x[0])"
      ]
    },
    {
      "cell_type": "code",
      "execution_count": null,
      "metadata": {
        "id": "9mrPdMk-0N2G"
      },
      "outputs": [],
      "source": [
        "np.savez('/content/drive/MyDrive/Dataset/independent_test_set_S_smote_row.npz', row_test_x, row_test_y)"
      ]
    },
    {
      "cell_type": "code",
      "execution_count": null,
      "metadata": {
        "colab": {
          "base_uri": "https://localhost:8080/"
        },
        "id": "U_ggFlF4jUtr",
        "outputId": "44d92986-8643-4695-ff39-f0676d409470"
      },
      "outputs": [
        {
          "output_type": "stream",
          "name": "stdout",
          "text": [
            "284\n",
            "1635\n"
          ]
        }
      ],
      "source": [
        "pos = 0\n",
        "neg = 0\n",
        "for i in range(len(row_test_y)):\n",
        "  if row_test_y[i]== 1:\n",
        "    pos +=1\n",
        "  elif row_test_y[i]==0:\n",
        "    neg +=1\n",
        "print(pos)\n",
        "print(neg)"
      ]
    },
    {
      "cell_type": "code",
      "source": [
        "pos = 0\n",
        "neg = 0\n",
        "for i in range(len(nearmiss_test_y)):\n",
        "  if nearmiss_test_y[i]== 1:\n",
        "    pos +=1\n",
        "  elif nearmiss_test_y[i]==0:\n",
        "    neg +=1\n",
        "print(pos)\n",
        "print(neg)"
      ],
      "metadata": {
        "colab": {
          "base_uri": "https://localhost:8080/"
        },
        "id": "-AvhkG28Ct2h",
        "outputId": "c4b8404f-65a2-4cb9-dd7e-a599d5e3882d"
      },
      "execution_count": null,
      "outputs": [
        {
          "output_type": "stream",
          "name": "stdout",
          "text": [
            "340\n",
            "4206\n"
          ]
        }
      ]
    },
    {
      "cell_type": "code",
      "execution_count": null,
      "metadata": {
        "colab": {
          "base_uri": "https://localhost:8080/"
        },
        "id": "RbfhQ2voWCTf",
        "outputId": "45dc584c-3083-4350-fca5-db2496064f4e"
      },
      "outputs": [
        {
          "output_type": "stream",
          "name": "stdout",
          "text": [
            "2832\n"
          ]
        }
      ],
      "source": [
        "testX1, testX2 = get_pssm_spd(new_test_x)\n",
        "#nearmissX1, nearmissX2 = get_pssm_spd(nearmiss_test_x)"
      ]
    },
    {
      "cell_type": "code",
      "execution_count": null,
      "metadata": {
        "id": "1skoMVeAIGIF"
      },
      "outputs": [],
      "source": [
        "from tensorflow.keras.models import load_model\n",
        "#model_spd = load_model('/content/drive/MyDrive/Dataset/best_model_spd-Y.h5')\n",
        "#model_pssm = load_model('/content/drive/MyDrive/Dataset/best_model_combined_nearmiss_S.h5')\n",
        "model_combined = load_model('/content/drive/MyDrive/Dataset/best_model_combined_T_ind.h5')\n",
        "\n",
        "#probabilities_pssm = model_pssm.predict([nearmissX1,nearmissX2])\n",
        "#predicted_classes_pssm = probabilities_pssm >= 0.5\n",
        "#predicted_classes_pssm = predicted_classes_pssm.astype(int)\n",
        "\n",
        "#probabilities_spd = model_spd.predict([testX2])\n",
        "#predicted_classes_spd = probabilities_spd >= 0.5\n",
        "#predicted_classes_spd = predicted_classes_spd.astype(int)\n",
        "\n",
        "probabilities_combined = model_combined.predict([testX1,testX2])\n",
        "predicted_classes_combined = probabilities_combined >= 0.5\n",
        "predicted_classes_combined = predicted_classes_combined.astype(int)"
      ]
    },
    {
      "cell_type": "code",
      "execution_count": null,
      "metadata": {
        "colab": {
          "base_uri": "https://localhost:8080/"
        },
        "id": "R9mT_rkOWZ_n",
        "outputId": "855cf883-60fd-4812-b7aa-0e966d7616a1"
      },
      "outputs": [
        {
          "output_type": "stream",
          "name": "stdout",
          "text": [
            "Looking in indexes: https://pypi.org/simple, https://us-python.pkg.dev/colab-wheels/public/simple/\n",
            "Requirement already satisfied: rotation-forest in /usr/local/lib/python3.7/dist-packages (1.0)\n",
            "Requirement already satisfied: scipy in /usr/local/lib/python3.7/dist-packages (from rotation-forest) (1.7.3)\n",
            "Requirement already satisfied: scikit-learn in /usr/local/lib/python3.7/dist-packages (from rotation-forest) (1.0.2)\n",
            "Requirement already satisfied: numpy in /usr/local/lib/python3.7/dist-packages (from rotation-forest) (1.21.6)\n",
            "Requirement already satisfied: threadpoolctl>=2.0.0 in /usr/local/lib/python3.7/dist-packages (from scikit-learn->rotation-forest) (3.1.0)\n",
            "Requirement already satisfied: joblib>=0.11 in /usr/local/lib/python3.7/dist-packages (from scikit-learn->rotation-forest) (1.1.0)\n"
          ]
        },
        {
          "output_type": "stream",
          "name": "stderr",
          "text": [
            "[Parallel(n_jobs=1)]: Using backend SequentialBackend with 1 concurrent workers.\n",
            "[Parallel(n_jobs=1)]: Done 100 out of 100 | elapsed:    0.1s finished\n",
            "[Parallel(n_jobs=1)]: Using backend SequentialBackend with 1 concurrent workers.\n",
            "[Parallel(n_jobs=1)]: Done 100 out of 100 | elapsed:    0.1s finished\n"
          ]
        },
        {
          "output_type": "stream",
          "name": "stdout",
          "text": [
            "              Experimental result with combined features\n",
            "-----------------------------------------------------------------\n",
            "             independent test\n",
            "-----------------------------------------------------------------\n",
            "Accuracy:    95.4\n",
            "MCC:         0.68\n",
            "Precision:   0.89\n",
            "Roc AUC :    0.78\n",
            "F1 score:    0.69\n",
            "Sensitivity: 56.1\n",
            "Specificity: 99.3\n",
            "PR AUC: 0.68\n",
            "\n",
            "Tn: 2561 Fp : 18 Fn : 111 Tp : 142\n",
            "\n",
            "\n",
            "              Experimental result with combined features\n",
            "-----------------------------------------------------------------\n",
            "             independent test\n",
            "-----------------------------------------------------------------\n",
            "Accuracy:    84.6\n",
            "MCC:         0.38\n",
            "Precision:   0.32\n",
            "Roc AUC :    0.76\n",
            "F1 score:    0.43\n",
            "Sensitivity: 65.2\n",
            "Specificity: 86.5\n",
            "PR AUC: 0.54\n",
            "\n",
            "Tn: 2232 Fp : 347 Fn : 88 Tp : 165\n",
            "\n",
            "\n"
          ]
        },
        {
          "output_type": "stream",
          "name": "stderr",
          "text": [
            "[Parallel(n_jobs=1)]: Using backend SequentialBackend with 1 concurrent workers.\n",
            "[Parallel(n_jobs=1)]: Done   1 out of   1 | elapsed:    0.0s remaining:    0.0s\n",
            "[Parallel(n_jobs=1)]: Done   2 out of   2 | elapsed:    0.1s remaining:    0.0s\n",
            "[Parallel(n_jobs=1)]: Done   3 out of   3 | elapsed:    0.1s remaining:    0.0s\n",
            "[Parallel(n_jobs=1)]: Done 100 out of 100 | elapsed:    3.7s finished\n",
            "[Parallel(n_jobs=1)]: Using backend SequentialBackend with 1 concurrent workers.\n",
            "[Parallel(n_jobs=1)]: Done   1 out of   1 | elapsed:    0.0s remaining:    0.0s\n",
            "[Parallel(n_jobs=1)]: Done   2 out of   2 | elapsed:    0.1s remaining:    0.0s\n",
            "[Parallel(n_jobs=1)]: Done   3 out of   3 | elapsed:    0.1s remaining:    0.0s\n",
            "[Parallel(n_jobs=1)]: Done 100 out of 100 | elapsed:    3.6s finished\n"
          ]
        },
        {
          "output_type": "stream",
          "name": "stdout",
          "text": [
            "              Experimental result with combined features\n",
            "-----------------------------------------------------------------\n",
            "             independent test\n",
            "-----------------------------------------------------------------\n",
            "Accuracy:    81.9\n",
            "MCC:         0.31\n",
            "Precision:   0.27\n",
            "Roc AUC :    0.72\n",
            "F1 score:    0.37\n",
            "Sensitivity: 59.3\n",
            "Specificity: 84.1\n",
            "PR AUC: 0.45\n",
            "\n",
            "Tn: 2170 Fp : 409 Fn : 103 Tp : 150\n",
            "\n",
            "\n",
            "              Experimental result with combined features\n",
            "-----------------------------------------------------------------\n",
            "             independent test\n",
            "-----------------------------------------------------------------\n",
            "Accuracy:    80.2\n",
            "MCC:         0.29\n",
            "Precision:   0.25\n",
            "Roc AUC :    0.71\n",
            "F1 score:    0.35\n",
            "Sensitivity: 59.7\n",
            "Specificity: 82.2\n",
            "PR AUC: 0.44\n",
            "\n",
            "Tn: 2121 Fp : 458 Fn : 102 Tp : 151\n",
            "\n",
            "\n",
            "              Experimental result with combined features\n",
            "-----------------------------------------------------------------\n",
            "             independent test\n",
            "-----------------------------------------------------------------\n",
            "Accuracy:    73.2\n",
            "MCC:         0.28\n",
            "Precision:   0.21\n",
            "Roc AUC :    0.72\n",
            "F1 score:    0.32\n",
            "Sensitivity: 71.5\n",
            "Specificity: 73.3\n",
            "PR AUC: 0.30\n",
            "\n",
            "Tn: 1891 Fp : 688 Fn : 72 Tp : 181\n",
            "\n",
            "\n"
          ]
        }
      ],
      "source": [
        "!pip install rotation-forest\n",
        "import pickle\n",
        "from rotation_forest import RotationForestClassifier\n",
        "protein_site = 'T'\n",
        "label =['cnn','rf','gb','rof','adaboost','svm',]\n",
        "label_manipulated =['cnn','rof','rf','svm','gb','adaboost']\n",
        "\n",
        "fpr = dict()\n",
        "tpr = dict()\n",
        "roc_auc = dict()\n",
        "pr = dict()\n",
        "re = dict()\n",
        "threshold = dict()\n",
        "pr_auc = dict()\n",
        "for i in range(1, len(label)):\n",
        "  modelfile = open('/content/drive/MyDrive/Dataset/ml-models-bigram-features/p{}smote-final-{}.pkl'.format(protein_site,label[i]), 'rb')\n",
        "  #modelfile = open('/content/drive/MyDrive/Dataset/ml-models/p{}nearmiss-final-{}.pkl'.format(protein_site,label[i]), 'rb')\n",
        "  ml_model = pickle.load(modelfile)\n",
        "  y_pred= ml_model.predict(row_test_x)\n",
        "  y_pred_prob = ml_model.predict_proba(row_test_x)\n",
        "  probabilities = []\n",
        "  for j in range(len(y_pred_prob)):\n",
        "    prob = y_pred_prob[j][1]\n",
        "    probabilities.append(prob)\n",
        "  y_proba = np.array(probabilities)\n",
        "  performance_result(row_test_y,y_pred,y_proba)\n",
        "  fpr[i], tpr[i], _ = roc_curve(row_test_y, y_proba)\n",
        "  #roc_auc[2] = metrics.auc(fpr[2], tpr[2])\n",
        "  roc_auc[i] = roc_auc_score(row_test_y, y_pred)\n",
        "  pr[i], re[i], _ = precision_recall_curve(row_test_y, y_proba)\n",
        "  #ind = np.argsort(pr[2])\n",
        "  #pr[2] = pr[2][ind]\n",
        "  #re[2] = re[2][ind]\n",
        "  #pr_auc[2] = metrics.auc(pr[2], re[2])\n",
        "  pr_auc[i] = auc(re[i],pr[i])"
      ]
    },
    {
      "cell_type": "code",
      "source": [
        "!pip install rotation-forest\n",
        "import pickle\n",
        "from rotation_forest import RotationForestClassifier\n",
        "protein_site = 'S'\n",
        "label =['','-pssm','-spd']\n",
        "algo = ['svm','rf']\n",
        "label_manipulated =['Combined','Evolutionary','Structural']\n",
        "inp ={0:nearmiss_test_x,\n",
        "      1:nearmiss_test_x[:,:400],\n",
        "      2:nearmiss_test_x[:,400:]\n",
        "      }\n",
        "outp = {\n",
        "    0:nearmiss_test_y,\n",
        "    1:nearmiss_test_y,\n",
        "    2:nearmiss_test_y\n",
        "\n",
        "}\n",
        "\n",
        "fpr = dict()\n",
        "tpr = dict()\n",
        "roc_auc = dict()\n",
        "pr = dict()\n",
        "re = dict()\n",
        "threshold = dict()\n",
        "pr_auc = dict()\n",
        "\n",
        "for i in range(len(label)):\n",
        "  modelfile = open('/content/drive/MyDrive/Dataset/ml-models-bigram-features/p{}nearmiss-final-svm{}.pkl'.format(protein_site,label[i]), 'rb')\n",
        "  #modelfile = open('/content/drive/MyDrive/Dataset/ml-models/p{}nearmiss-final-{}.pkl'.format(protein_site,label[i]), 'rb')\n",
        "  ml_model = pickle.load(modelfile)\n",
        "  y_pred= ml_model.predict(inp[i])\n",
        "  y_pred_prob = ml_model.predict_proba(inp[i])\n",
        "  probabilities = []\n",
        "  for j in range(len(y_pred_prob)):\n",
        "    prob = y_pred_prob[j][1]\n",
        "    probabilities.append(prob)\n",
        "  y_proba = np.array(probabilities)\n",
        "  performance_result(outp[i],y_pred,y_proba)\n",
        "  fpr[i], tpr[i], _ = roc_curve(outp[i], y_proba)\n",
        "  #roc_auc[2] = metrics.auc(fpr[2], tpr[2])\n",
        "  roc_auc[i] = roc_auc_score(outp[i], y_pred)\n",
        "  pr[i], re[i], _ = precision_recall_curve(outp[i], y_proba)\n",
        "  #ind = np.argsort(pr[2])\n",
        "  #pr[2] = pr[2][ind]\n",
        "  #re[2] = re[2][ind]\n",
        "  #pr_auc[2] = metrics.auc(pr[2], re[2])\n",
        "  pr_auc[i] = auc(re[i],pr[i])"
      ],
      "metadata": {
        "colab": {
          "base_uri": "https://localhost:8080/"
        },
        "id": "HYJmucsMDhxS",
        "outputId": "386e7530-5cf3-437c-f97c-5c79553c4cfd"
      },
      "execution_count": null,
      "outputs": [
        {
          "output_type": "stream",
          "name": "stdout",
          "text": [
            "Looking in indexes: https://pypi.org/simple, https://us-python.pkg.dev/colab-wheels/public/simple/\n",
            "Requirement already satisfied: rotation-forest in /usr/local/lib/python3.7/dist-packages (1.0)\n",
            "Requirement already satisfied: numpy in /usr/local/lib/python3.7/dist-packages (from rotation-forest) (1.21.6)\n",
            "Requirement already satisfied: scipy in /usr/local/lib/python3.7/dist-packages (from rotation-forest) (1.7.3)\n",
            "Requirement already satisfied: scikit-learn in /usr/local/lib/python3.7/dist-packages (from rotation-forest) (1.0.2)\n",
            "Requirement already satisfied: joblib>=0.11 in /usr/local/lib/python3.7/dist-packages (from scikit-learn->rotation-forest) (1.1.0)\n",
            "Requirement already satisfied: threadpoolctl>=2.0.0 in /usr/local/lib/python3.7/dist-packages (from scikit-learn->rotation-forest) (3.1.0)\n",
            "              Experimental result with combined features\n",
            "-----------------------------------------------------------------\n",
            "             independent test\n",
            "-----------------------------------------------------------------\n",
            "Accuracy:    95.4\n",
            "MCC:         0.72\n",
            "Precision:   0.65\n",
            "Roc AUC :    0.90\n",
            "F1 score:    0.73\n",
            "Sensitivity: 84.1\n",
            "Specificity: 96.3\n",
            "PR AUC: 0.68\n",
            "\n",
            "Tn: 4052 Fp : 154 Fn : 54 Tp : 286\n",
            "\n",
            "\n",
            "              Experimental result with combined features\n",
            "-----------------------------------------------------------------\n",
            "             independent test\n",
            "-----------------------------------------------------------------\n",
            "Accuracy:    93.9\n",
            "MCC:         0.53\n",
            "Precision:   0.60\n",
            "Roc AUC :    0.75\n",
            "F1 score:    0.56\n",
            "Sensitivity: 51.8\n",
            "Specificity: 97.3\n",
            "PR AUC: 0.54\n",
            "\n",
            "Tn: 4091 Fp : 115 Fn : 164 Tp : 176\n",
            "\n",
            "\n",
            "              Experimental result with combined features\n",
            "-----------------------------------------------------------------\n",
            "             independent test\n",
            "-----------------------------------------------------------------\n",
            "Accuracy:    92.3\n",
            "MCC:         0.60\n",
            "Precision:   0.49\n",
            "Roc AUC :    0.87\n",
            "F1 score:    0.62\n",
            "Sensitivity: 81.8\n",
            "Specificity: 93.2\n",
            "PR AUC: 0.64\n",
            "\n",
            "Tn: 3920 Fp : 286 Fn : 62 Tp : 278\n",
            "\n",
            "\n"
          ]
        }
      ]
    },
    {
      "cell_type": "code",
      "source": [
        "len(inp[0][0])"
      ],
      "metadata": {
        "colab": {
          "base_uri": "https://localhost:8080/"
        },
        "id": "4UVfMuVFHcHY",
        "outputId": "010ee52d-1258-4df8-a619-2c9bd883b5da"
      },
      "execution_count": null,
      "outputs": [
        {
          "output_type": "execute_result",
          "data": {
            "text/plain": [
              "648"
            ]
          },
          "metadata": {},
          "execution_count": 41
        }
      ]
    },
    {
      "cell_type": "code",
      "execution_count": null,
      "metadata": {
        "id": "4R2STghbZxPQ"
      },
      "outputs": [],
      "source": [
        "import sklearn.metrics as metrics\n",
        "import matplotlib.pyplot as plt\n",
        "import numpy as np\n",
        "\n",
        "#fpr = dict()\n",
        "#tpr = dict()\n",
        "#roc_auc = dict()\n",
        "#label = ('Structural', 'Evolutionary', 'combined')\n",
        "#label = ('NearMiss', 'SMOTE')\n",
        "\n",
        "#fpr[0], tpr[0], _ = metrics.roc_curve(new_test_y, probabilities_spd)\n",
        "#roc_auc[0] = metrics.auc(fpr[0], tpr[0])\n",
        "#roc_auc[0] = roc_auc_score(new_test_y, predicted_classes_spd)\n",
        "\n",
        "#fpr[0], tpr[0], _ = metrics.roc_curve(nearmiss_test_y, probabilities_pssm)\n",
        "#roc_auc[1] = metrics.auc(fpr[1], tpr[1])\n",
        "#roc_auc[0] = roc_auc_score(nearmiss_test_y, predicted_classes_pssm)\n",
        "\n",
        "fpr[0], tpr[0], _ = metrics.roc_curve(new_test_y, probabilities_combined)\n",
        "#roc_auc[2] = metrics.auc(fpr[2], tpr[2])\n",
        "roc_auc[0] = roc_auc_score(new_test_y, predicted_classes_combined)\n"
      ]
    },
    {
      "cell_type": "code",
      "execution_count": null,
      "metadata": {
        "id": "2ni4bAX-iKWh"
      },
      "outputs": [],
      "source": [
        "for i in range(1,len(label)):\n",
        "  fpr[i], tpr[i], _ = metrics.roc_curve(row_test_y, proba_ind)\n",
        "  #roc_auc[2] = metrics.auc(fpr[2], tpr[2])\n",
        "  roc_auc[i] = roc_auc_score(row_test_y, y_pred)"
      ]
    },
    {
      "cell_type": "code",
      "execution_count": null,
      "metadata": {
        "colab": {
          "base_uri": "https://localhost:8080/"
        },
        "id": "x8ppmJsdkukj",
        "outputId": "703ea6c2-539e-47ca-c42d-41e21413b7f1"
      },
      "outputs": [
        {
          "data": {
            "text/plain": [
              "{0: 0.6845960149397613,\n",
              " 1: 0.6845960149397613,\n",
              " 2: 0.6845960149397613,\n",
              " 3: 0.6845960149397613,\n",
              " 4: 0.6845960149397613,\n",
              " 5: 0.6845960149397613}"
            ]
          },
          "execution_count": 98,
          "metadata": {},
          "output_type": "execute_result"
        }
      ],
      "source": [
        "roc_auc"
      ]
    },
    {
      "cell_type": "code",
      "execution_count": null,
      "metadata": {
        "colab": {
          "base_uri": "https://localhost:8080/",
          "height": 279
        },
        "id": "W6bNnywtcOu0",
        "outputId": "9cba703b-dfbc-4934-f80c-0cbe5b9dee4b"
      },
      "outputs": [
        {
          "output_type": "display_data",
          "data": {
            "text/plain": [
              "<Figure size 432x288 with 1 Axes>"
            ],
            "image/png": "[encoded data removed]"
          },
          "metadata": {
            "needs_background": "light"
          }
        }
      ],
      "source": [
        "protein_site = 'S'\n",
        "import matplotlib.pyplot as plt\n",
        "#colors = ['green', 'red','purple','darkorange', 'pink','cyan']\n",
        "colors = ['green', 'red','purple']\n",
        "plot_roc_curves(fpr, tpr, roc_auc,label_manipulated,protein_site, colors)"
      ]
    },
    {
      "cell_type": "code",
      "execution_count": null,
      "metadata": {
        "id": "fsuGZoKb1-Mp"
      },
      "outputs": [],
      "source": [
        "#pr = dict()\n",
        "#re = dict()\n",
        "#threshold = dict()\n",
        "#pr_auc = dict()\n",
        "#label = ('Structural', 'Evolutionary', 'combined')\n",
        "\n",
        "#pr[0], re[0], threshold[0] = precision_recall_curve(new_test_y, probabilities_spd)\n",
        "#ind = np.argsort(pr[0])\n",
        "#pr[0] = pr[0][ind]\n",
        "#re[0] = re[0][ind]\n",
        "#pr_auc[0] = metrics.auc(pr[0], re[0])\n",
        "#pr_auc[0] = metrics.auc(re[0],pr[0])\n",
        "#roc_auc[0] = roc_auc_score(new_test_y, predicted_classes_spd)\n",
        "\n",
        "#pr[0], re[0], threshold[0] = precision_recall_curve(new_test_y, probabilities_combined)\n",
        "#ind = np.argsort(pr[1])\n",
        "#pr[1] = pr[1][ind]\n",
        "#re[1] = re[1][ind]\n",
        "#pr_auc[1] = metrics.auc(pr[1], re[1])\n",
        "#pr_auc[0] = metrics.auc(re[0],pr[0])\n",
        "\n",
        "\n",
        "pr[0], re[0], _ = precision_recall_curve(new_test_y, probabilities_combined)\n",
        "#ind = np.argsort(pr[2])\n",
        "#pr[2] = pr[2][ind]\n",
        "#re[2] = re[2][ind]\n",
        "#pr_auc[2] = metrics.auc(pr[2], re[2])\n",
        "pr_auc[0] = metrics.auc(re[0],pr[0])"
      ]
    },
    {
      "cell_type": "code",
      "execution_count": null,
      "metadata": {
        "colab": {
          "base_uri": "https://localhost:8080/",
          "height": 283
        },
        "id": "fxAheUTgOCBP",
        "outputId": "e7676cae-2de4-416d-955a-94dbcebfe565"
      },
      "outputs": [
        {
          "output_type": "display_data",
          "data": {
            "text/plain": [
              "<Figure size 432x288 with 1 Axes>"
            ],
            "image/png": "[encoded data removed]"
          },
          "metadata": {
            "needs_background": "light"
          }
        }
      ],
      "source": [
        "plot_pr_curves(pr, re, pr_auc,label_manipulated,protein_site, colors)"
      ]
    }
  ],
  "metadata": {
    "colab": {
      "collapsed_sections": [],
      "provenance": [],
      "authorship_tag": "ABX9TyMSLwrVtX2QrR/Hh5OgatlS",
      "include_colab_link": true
    },
    "kernelspec": {
      "display_name": "Python 3",
      "name": "python3"
    },
    "language_info": {
      "name": "python"
    }
  },
  "nbformat": 4,
  "nbformat_minor": 0
}